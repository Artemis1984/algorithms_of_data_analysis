{
 "cells": [
  {
   "cell_type": "code",
   "execution_count": 1,
   "metadata": {},
   "outputs": [],
   "source": [
    "import numpy as np\n",
    "import matplotlib.pyplot as plt\n",
    "%matplotlib inline"
   ]
  },
  {
   "cell_type": "code",
   "execution_count": 2,
   "metadata": {},
   "outputs": [],
   "source": [
    "X = np.array([[1, 1, 1, 1, 1, 1, 1, 1, 1, 1],\n",
    "              [1, 1, 2, 1, 3, 0, 5, 10, 1, 2],\n",
    "              [500, 700, 750, 600, 1450, 800, 1500, 2000, 450, 1000],\n",
    "              [1, 1, 2, 1, 2, 1, 3, 3, 1, 2]])\n",
    "\n"
   ]
  },
  {
   "cell_type": "code",
   "execution_count": 3,
   "metadata": {},
   "outputs": [],
   "source": [
    "y = [45, 55, 50, 59, 65, 35, 75, 80, 50, 60]"
   ]
  },
  {
   "cell_type": "code",
   "execution_count": 4,
   "metadata": {},
   "outputs": [
    {
     "data": {
      "text/plain": [
       "array([[1.00e+00, 1.00e+00, 1.00e+00, 1.00e+00, 1.00e+00, 1.00e+00,\n",
       "        1.00e+00, 1.00e+00, 1.00e+00, 1.00e+00],\n",
       "       [1.00e+00, 1.00e+00, 2.00e+00, 1.00e+00, 3.00e+00, 0.00e+00,\n",
       "        5.00e+00, 1.00e+01, 1.00e+00, 2.00e+00],\n",
       "       [5.00e+02, 7.00e+02, 7.50e+02, 6.00e+02, 1.45e+03, 8.00e+02,\n",
       "        1.50e+03, 2.00e+03, 4.50e+02, 1.00e+03],\n",
       "       [1.00e+00, 1.00e+00, 2.00e+00, 1.00e+00, 2.00e+00, 1.00e+00,\n",
       "        3.00e+00, 3.00e+00, 1.00e+00, 2.00e+00]])"
      ]
     },
     "execution_count": 4,
     "metadata": {},
     "output_type": "execute_result"
    }
   ],
   "source": [
    "X_st = X.copy().astype(np.float64)\n",
    "X_st"
   ]
  },
  {
   "cell_type": "code",
   "execution_count": 5,
   "metadata": {},
   "outputs": [],
   "source": [
    "def calc_mse(y, y_pred):\n",
    "    err = np.mean((y - y_pred)**2)\n",
    "    return err"
   ]
  },
  {
   "cell_type": "code",
   "execution_count": 6,
   "metadata": {},
   "outputs": [],
   "source": [
    "def calc_std_feat(x):\n",
    "    return (x - x.mean())/x.std()"
   ]
  },
  {
   "cell_type": "code",
   "execution_count": 7,
   "metadata": {},
   "outputs": [],
   "source": [
    "def calc_norm_feat(x):\n",
    "    return (x - x.min())/(x.max() - x.min())"
   ]
  },
  {
   "cell_type": "code",
   "execution_count": 8,
   "metadata": {},
   "outputs": [],
   "source": [
    "X_st[1] = calc_std_feat(X_st[1])\n",
    "X_st[2] = calc_std_feat(X_st[2])\n",
    "X_st[3] = calc_std_feat(X_st[3])"
   ]
  },
  {
   "cell_type": "code",
   "execution_count": 9,
   "metadata": {},
   "outputs": [
    {
     "data": {
      "text/plain": [
       "array([[ 1.        ,  1.        ,  1.        ,  1.        ,  1.        ,\n",
       "         1.        ,  1.        ,  1.        ,  1.        ,  1.        ],\n",
       "       [-0.57142857, -0.57142857, -0.21428571, -0.57142857,  0.14285714,\n",
       "        -0.92857143,  0.85714286,  2.64285714, -0.57142857, -0.21428571],\n",
       "       [-0.97958969, -0.56713087, -0.46401617, -0.77336028,  0.97958969,\n",
       "        -0.36090146,  1.08270439,  2.11385144, -1.08270439,  0.05155735],\n",
       "       [-0.89625816, -0.89625816,  0.38411064, -0.89625816,  0.38411064,\n",
       "        -0.89625816,  1.66447944,  1.66447944, -0.89625816,  0.38411064]])"
      ]
     },
     "execution_count": 9,
     "metadata": {},
     "output_type": "execute_result"
    }
   ],
   "source": [
    "X_st"
   ]
  },
  {
   "cell_type": "code",
   "execution_count": 10,
   "metadata": {},
   "outputs": [],
   "source": [
    "def eval_model(X, y, iterations, alpha=1e-4):\n",
    "    W = np.random.randn(X_st.shape[0])\n",
    "    n = X.shape[1]\n",
    "    for i in range(1, iterations + 1):\n",
    "        y_pred = np.dot(W, X)\n",
    "        err = calc_mse(y, y_pred)\n",
    "        W -= (alpha * (1/n * 2 * sum((X * (y_pred - y)).T)))\n",
    "        if i % (iterations/10) == 0:\n",
    "            print(i, W, err)\n",
    "    return i, W, err"
   ]
  },
  {
   "cell_type": "code",
   "execution_count": 11,
   "metadata": {},
   "outputs": [
    {
     "name": "stdout",
     "output_type": "stream",
     "text": [
      "3000 [57.25596707  5.44997126  2.56327661  3.63864307] 39.97590033835188\n",
      "6000 [57.39964512  5.72674487  2.08904435  3.84253972] 39.83790902510949\n",
      "9000 [57.39999913  5.89021949  1.81308425  3.95876072] 39.79816319607703\n",
      "12000 [57.4         5.98641609  1.65244773  4.02537065] 39.78467585098536\n",
      "15000 [57.4         6.04287122  1.5589184   4.0637064 ] 39.780098267876305\n",
      "18000 [57.4         6.07593877  1.50445195  4.08583915] 39.77854450115757\n",
      "21000 [57.4         6.09528006  1.47272944  4.09864743] 39.77801708072007\n",
      "24000 [57.4         6.10658112  1.45425172  4.10607268] 39.777838044964525\n",
      "27000 [57.4         6.11317931  1.44348807  4.1103829 ] 39.77777726941179\n",
      "30000 [57.4         6.11702957  1.43721768  4.11288733] 39.77775663835443\n"
     ]
    },
    {
     "data": {
      "text/plain": [
       "(30000,\n",
       " array([57.4       ,  6.11702957,  1.43721768,  4.11288733]),\n",
       " 39.77775663835443)"
      ]
     },
     "execution_count": 11,
     "metadata": {},
     "output_type": "execute_result"
    }
   ],
   "source": [
    "eval_model(X_st, y, 30000, alpha=1e-3)"
   ]
  },
  {
   "cell_type": "code",
   "execution_count": 12,
   "metadata": {},
   "outputs": [],
   "source": [
    "def eval_sgd_model(X, y, iterations, qty_in_batch, alpha=1e-4):\n",
    "    W = np.random.randn(X_st.shape[0])\n",
    "    n = X.shape[1]\n",
    "    n_batch = n//qty_in_batch\n",
    "    if n % qty_in_batch != 0:\n",
    "        n_batch += 1\n",
    "    for i in range(1, iterations + 1):\n",
    "        for b in range(n_batch):\n",
    "            start_ = n_batch * b \n",
    "            end_ = qty_in_batch * (b+1)\n",
    "            X_tmp = X[:, start_:end_]\n",
    "            y_tmp = y[start_:end_]\n",
    "            y_pred_tmp = np.dot(W, X_tmp)\n",
    "            err = calc_mse(y_tmp, y_pred_tmp)\n",
    "            W -= (alpha * (1/n * 2 * sum((X_tmp * (y_pred_tmp - y_tmp)).T)))\n",
    "        if i % (iterations/10) == 0:\n",
    "            print(i, W, err)\n",
    "            \n",
    "            print('ошибка для всего датасета по полученным весам -', calc_mse(y, np.dot(W, X)))\n",
    "    \n",
    "    return W"
   ]
  },
  {
   "cell_type": "code",
   "execution_count": 13,
   "metadata": {},
   "outputs": [
    {
     "name": "stdout",
     "output_type": "stream",
     "text": [
      "100 [53.74901707  6.39117641  2.70206139  2.82672977] 34.72220406399707\n",
      "ошибка для всего датасета по полученным весам - 53.559155691144646\n",
      "200 [57.9876937   5.74180406  2.01921343  3.19997607] 8.1280829503204\n",
      "ошибка для всего датасета по полученным весам - 40.685834065809985\n",
      "300 [58.34092148  5.4880083   1.75042416  3.6608508 ] 6.152745670553939\n",
      "ошибка для всего датасета по полученным весам - 41.24360474067464\n",
      "400 [58.37292141  5.35952241  1.55717751  3.987958  ] 5.326401045648723\n",
      "ошибка для всего датасета по полученным весам - 41.30117200328432\n",
      "500 [58.37684807  5.29719019  1.40260789  4.21163833] 4.849666914845753\n",
      "ошибка для всего датасета по полученным весам - 41.32166393976073\n",
      "600 [58.3774605   5.27312099  1.27688644  4.36576376] 4.558516446166381\n",
      "ошибка для всего датасета по полученным весам - 41.340403547315184\n",
      "700 [58.37724459  5.27079111  1.174032    4.47349362] 4.3774133849291434\n",
      "ошибка для всего датасета по полученным весам - 41.356429945331385\n",
      "800 [58.376681    5.28015142  1.08956043  4.55002655] 4.263696666869623\n",
      "ошибка для всего датасета по полученным весам - 41.36912264007741\n",
      "900 [58.37597334  5.29515648  1.01998048  4.60533806] 4.191904650225191\n",
      "ошибка для всего датасета по полученным весам - 41.37888259279564\n",
      "1000 [58.37523256  5.31225148  0.96253419  4.64601711] 4.1464498249591415\n",
      "ошибка для всего датасета по полученным весам - 41.38635738258328\n"
     ]
    },
    {
     "data": {
      "text/plain": [
       "array([58.37523256,  5.31225148,  0.96253419,  4.64601711])"
      ]
     },
     "execution_count": 13,
     "metadata": {},
     "output_type": "execute_result"
    }
   ],
   "source": [
    "eval_sgd_model(X_st, y, iterations=1000, qty_in_batch=4, alpha=1e-2)"
   ]
  },
  {
   "cell_type": "markdown",
   "metadata": {},
   "source": [
    "### 1. Постройте график зависимости весов всех признаков от lambda в L2-регуляризации (на данных из урока)."
   ]
  },
  {
   "cell_type": "code",
   "execution_count": 14,
   "metadata": {},
   "outputs": [],
   "source": [
    "def eval_model_ridge(X, y, iterations, alpha=1e-4, lambda_=1e-8):\n",
    "    np.random.seed(42)\n",
    "    W = np.random.randn(X.shape[0])\n",
    "    n = X.shape[1]\n",
    "    for i in range(1, iterations+1):\n",
    "        y_pred = np.dot(W, X)\n",
    "        err = calc_mse(y, y_pred)\n",
    "        W -= alpha * ((1/n * 2 * sum((X * (y_pred - y)).T)) + lambda_ * W)\n",
    "    print('ошибка -', calc_mse(y, np.dot(W, X)))\n",
    "    return W"
   ]
  },
  {
   "cell_type": "code",
   "execution_count": 15,
   "metadata": {},
   "outputs": [
    {
     "name": "stdout",
     "output_type": "stream",
     "text": [
      "ошибка - 409.54048991996615\n",
      "ошибка - 39.80701205693764\n"
     ]
    }
   ],
   "source": [
    "W_1 = eval_model_ridge(X_st, y, iterations=1000, alpha=1e-2, lambda_=1e-0)\n",
    "W_2 = eval_model_ridge(X_st, y, iterations=1000, alpha=1e-2, lambda_=1e-8)"
   ]
  },
  {
   "cell_type": "code",
   "execution_count": 16,
   "metadata": {},
   "outputs": [
    {
     "data": {
      "image/png": "[encoded data removed]",
      "text/plain": [
       "<Figure size 432x288 with 1 Axes>"
      ]
     },
     "metadata": {
      "needs_background": "light"
     },
     "output_type": "display_data"
    }
   ],
   "source": [
    "plt.title('график зависимости весов от лямбда по L2')\n",
    "plt.plot(np.dot(W_1, X_st), color='r');\n",
    "plt.plot(np.dot(W_2, X_st), color='g');"
   ]
  },
  {
   "cell_type": "markdown",
   "metadata": {},
   "source": [
    "###  2. Можно ли к одному и тому же признаку применить сразу и нормализацию, и стандартизацию?"
   ]
  },
  {
   "cell_type": "code",
   "execution_count": 17,
   "metadata": {},
   "outputs": [
    {
     "data": {
      "text/plain": [
       "array([0.1, 0.1, 0.2, 0.1, 0.3, 0. , 0.5, 1. , 0.1, 0.2])"
      ]
     },
     "execution_count": 17,
     "metadata": {},
     "output_type": "execute_result"
    }
   ],
   "source": [
    "calc_norm_feat(X[1])"
   ]
  },
  {
   "cell_type": "code",
   "execution_count": 18,
   "metadata": {},
   "outputs": [
    {
     "data": {
      "text/plain": [
       "array([-0.57142857, -0.57142857, -0.21428571, -0.57142857,  0.14285714,\n",
       "       -0.92857143,  0.85714286,  2.64285714, -0.57142857, -0.21428571])"
      ]
     },
     "execution_count": 18,
     "metadata": {},
     "output_type": "execute_result"
    }
   ],
   "source": [
    "X_1_norm = calc_norm_feat(X[1])\n",
    "calc_std_feat(X_1_norm)"
   ]
  },
  {
   "cell_type": "code",
   "execution_count": 19,
   "metadata": {},
   "outputs": [
    {
     "data": {
      "text/plain": [
       "array([-0.57142857, -0.57142857, -0.21428571, -0.57142857,  0.14285714,\n",
       "       -0.92857143,  0.85714286,  2.64285714, -0.57142857, -0.21428571])"
      ]
     },
     "execution_count": 19,
     "metadata": {},
     "output_type": "execute_result"
    }
   ],
   "source": [
    "calc_std_feat(X[1])"
   ]
  },
  {
   "cell_type": "code",
   "execution_count": 20,
   "metadata": {},
   "outputs": [
    {
     "data": {
      "text/plain": [
       "array([0.1, 0.1, 0.2, 0.1, 0.3, 0. , 0.5, 1. , 0.1, 0.2])"
      ]
     },
     "execution_count": 20,
     "metadata": {},
     "output_type": "execute_result"
    }
   ],
   "source": [
    "X_1_std = calc_std_feat(X[1])\n",
    "X_1_norm = calc_norm_feat(X_1_std)\n",
    "X_1_norm"
   ]
  },
  {
   "cell_type": "markdown",
   "metadata": {},
   "source": [
    "#### Как видно из полученных результатов в этом нет никакого смысла"
   ]
  },
  {
   "cell_type": "markdown",
   "metadata": {},
   "source": [
    "### 3*. Напишите функцию наподобие eval_model_reg2, но для применения L1-регуляризации."
   ]
  },
  {
   "cell_type": "code",
   "execution_count": 30,
   "metadata": {},
   "outputs": [],
   "source": [
    "def eval_model_lasso(X, y, iterations, alpha=1e-4, lambda_=1e-8):\n",
    "    np.random.seed(42)\n",
    "    W = np.random.randn(X.shape[0])\n",
    "    n = X.shape[1]\n",
    "    for i in range(1, iterations+1):\n",
    "        y_pred = np.dot(W, X)\n",
    "        err = calc_mse(y, y_pred)\n",
    "        W -= alpha * ((1/n * 2 * sum((X * (y_pred - y)).T)) + lambda_ * np.sum(W/np.abs(W)))\n",
    "    print('ошибка -', calc_mse(y, np.dot(W, X)))\n",
    "    return W"
   ]
  },
  {
   "cell_type": "code",
   "execution_count": 32,
   "metadata": {},
   "outputs": [
    {
     "name": "stdout",
     "output_type": "stream",
     "text": [
      "ошибка - 48.16248831649902\n",
      "ошибка - 39.80701204709301\n"
     ]
    }
   ],
   "source": [
    "W_1 = eval_model_lasso(X_st, y, iterations=1000, alpha=1e-2, lambda_=1e-0)\n",
    "W_2 = eval_model_lasso(X_st, y, iterations=1000, alpha=1e-2, lambda_=1e-8)"
   ]
  },
  {
   "cell_type": "code",
   "execution_count": 34,
   "metadata": {},
   "outputs": [
    {
     "data": {
      "image/png": "[encoded data removed]",
      "text/plain": [
       "<Figure size 432x288 with 1 Axes>"
      ]
     },
     "metadata": {
      "needs_background": "light"
     },
     "output_type": "display_data"
    }
   ],
   "source": [
    "plt.title('график зависимости весов от лямбда по L1')\n",
    "plt.plot(np.dot(W_1, X_st), color='r');\n",
    "plt.plot(np.dot(W_2, X_st), color='g');"
   ]
  }
 ],
 "metadata": {
  "kernelspec": {
   "display_name": "Python 3",
   "language": "python",
   "name": "python3"
  },
  "language_info": {
   "codemirror_mode": {
    "name": "ipython",
    "version": 3
   },
   "file_extension": ".py",
   "mimetype": "text/x-python",
   "name": "python",
   "nbconvert_exporter": "python",
   "pygments_lexer": "ipython3",
   "version": "3.7.3"
  }
 },
 "nbformat": 4,
 "nbformat_minor": 2
}
